{
 "cells": [
  {
   "cell_type": "markdown",
   "metadata": {
    "slideshow": {
     "slide_type": "slide"
    }
   },
   "source": [
    "# Part II - Communicate Data Findings Project - Ford GoBike Slides\n",
    "## by Chinomnso Chinedum"
   ]
  },
  {
   "cell_type": "markdown",
   "metadata": {
    "slideshow": {
     "slide_type": "slide"
    }
   },
   "source": [
    "\n",
    "## Investigation Overview\n",
    "\n",
    "\n",
    "> In this presentation, i focused on the relationship between distance traveled and  age, gender. I also showed some of the insights from the ambitious bikers (who traveled for 5.05km - 15km). Owing to the close relationship between duration and distance, I also showed some insights on duration and features like bike id, age, start hour and distance.\n",
    "\n",
    "\n",
    "\n",
    "\n",
    "## Dataset Overview\n",
    "\n",
    "> The dataset includes information about 183412 individual rides made in a bike-sharing system covering the greater San Francisco Bay area. The exploration exercise is focused on the distance covered by each person, and how this may be dependent on/closely related with other features such as age, gender, bike id, user type, day of the week"
   ]
  },
  {
   "cell_type": "code",
   "execution_count": null,
   "metadata": {
    "slideshow": {
     "slide_type": "skip"
    }
   },
   "outputs": [],
   "source": [
    "# import all packages and set plots to be embedded inline\n",
    "import numpy as np\n",
    "import pandas as pd\n",
    "import matplotlib.pyplot as plt\n",
    "import seaborn as sb\n",
    "\n",
    "%matplotlib inline\n",
    "\n",
    "# suppress warnings from final output\n",
    "import warnings\n",
    "warnings.simplefilter(\"ignore\")"
   ]
  },
  {
   "cell_type": "code",
   "execution_count": null,
   "metadata": {
    "slideshow": {
     "slide_type": "skip"
    }
   },
   "outputs": [],
   "source": [
    "# load in the dataset into a pandas dataframe\n",
    "ford_df = pd.read_csv('fordgobike.csv')\n",
    "distance_one_percent = pd.read_csv('ambitious_fordgobike.csv')"
   ]
  },
  {
   "cell_type": "code",
   "execution_count": null,
   "metadata": {},
   "outputs": [],
   "source": [
    "# Necessary colours\n",
    "base_color = sb.color_palette()[7]"
   ]
  },
  {
   "cell_type": "markdown",
   "metadata": {
    "slideshow": {
     "slide_type": "slide"
    }
   },
   "source": [
    "## Trip Duration and other quantitative variables\n",
    "\n",
    "> Younger people (20 - 40 years) are more likely to ride a bike for longer minutes than older people. People who start a bike ride in the early hours of the morning (0hrs - 5hrs), are more likely to ride for a shorter period of time compared tho those who start after 10:00am. Those who rode their bikes for longer seconds were more likely to be using a more modern bike version. The bikers moved at different speeds, they could have ridden for 1000 seconds and traveled 5km, or just 1km."
   ]
  },
  {
   "cell_type": "code",
   "execution_count": null,
   "metadata": {
    "slideshow": {
     "slide_type": "subslide"
    }
   },
   "outputs": [],
   "source": [
    "# Create Scatter plots to get relationship between quantitative variables and trip duration\n",
    "\n",
    "quantitative_columns = ['age', 'distance_km', 'start_hour', 'bike_id']\n",
    "\n",
    "nrows, ncols = 2, 2\n",
    "cols = quantitative_columns\n",
    "fig, ax = plt.subplots(nrows=nrows, ncols=ncols, figsize=(20,10))\n",
    "\n",
    "for i in range(nrows):\n",
    "    for j in range(ncols): \n",
    "        sb.scatterplot(data=ford_df,x=ford_df['duration_sec'],y=ford_df[cols[i*ncols+j]],color=base_color, ax = ax[i,j],alpha=0.5)\n",
    "        plt.suptitle('Trip Duration, Age, Distance, Start Hour and Bike ID', fontsize=20, va='bottom')"
   ]
  },
  {
   "cell_type": "markdown",
   "metadata": {
    "collapsed": true,
    "slideshow": {
     "slide_type": "slide"
    }
   },
   "source": [
    "## Bike Usage for the Ambitious Bikers\n",
    "\n",
    "> Interestingly, the ambitious bikers are mostly between their mid 20s and 40s. The people who rode the farthest are in their 30s\n",
    "People who start a bike ride in the early hours of the morning (0hrs-5hrs), are more likely to ride for a shorter period of time compared tho those who start after 10:00am. Those who rode their bikes for longer seconds were more likely to be using a more modern bike version (between bike_id 4200-7000). Most of the bikers who traveled far, traveled fast."
   ]
  },
  {
   "cell_type": "code",
   "execution_count": null,
   "metadata": {
    "slideshow": {
     "slide_type": "subslide"
    }
   },
   "outputs": [],
   "source": [
    "# Lets find out the bike usage of the 1% (distance_km)\n",
    "\n",
    "quantitative_columns = ['age', 'duration_sec', 'start_hour', 'bike_id']\n",
    "\n",
    "nrows, ncols = 2, 2\n",
    "cols = quantitative_columns\n",
    "fig, ax = plt.subplots(nrows=nrows, ncols=ncols, figsize=(20,10))\n",
    "\n",
    "for i in range(nrows):\n",
    "    for j in range(ncols): \n",
    "        sb.scatterplot(data=distance_one_percent,x=distance_one_percent['distance_km'],y=distance_one_percent[cols[i*ncols+j]],color=base_color, ax = ax[i,j],alpha=0.5)\n",
    "        plt.suptitle('Ambitious Bikers, their Age, Duration, Start Hour and Bike ID', fontsize=20, va='bottom')"
   ]
  },
  {
   "cell_type": "markdown",
   "metadata": {
    "collapsed": true,
    "slideshow": {
     "slide_type": "slide"
    }
   },
   "source": [
    "## Trip Distance, Gender, and Age\n",
    "\n",
    "> Across all genders, older people tend to ride for shorter distances. More people from the `Other` gender category cycle for shorter distances."
   ]
  },
  {
   "cell_type": "code",
   "execution_count": null,
   "metadata": {
    "slideshow": {
     "slide_type": "subslide"
    }
   },
   "outputs": [],
   "source": [
    "# Splitting up Shape Encoded Graph\n",
    "gender = sb.FacetGrid(data = ford_df, col = 'member_gender', col_wrap = 3, size = 5,\n",
    "                 xlim = [10, 100], ylim = [0, 6])\n",
    "gender.map(plt.scatter, 'age', 'distance_km', alpha= 1)\n",
    "\n",
    "gender.set_xlabels('Age')\n",
    "gender.set_ylabels('Distance (km)')\n",
    "gender.fig.suptitle('Trip Distance, Gender, and Age', fontsize=20, va='bottom')\n",
    "plt.show()"
   ]
  },
  {
   "cell_type": "markdown",
   "metadata": {
    "slideshow": {
     "slide_type": "slide"
    }
   },
   "source": [
    "### Summary\n",
    "Different patterns of bike usage were observed across age, gender, bike_ids. Longer duration of bike riding was associated with modern bikes and younger age. Across all genders, older people tend to ride for shorter distances. More people from the `Other` gender category cycle for shorter distances. However, among the ambitious bikers, the 1% who traveled for distances between 5.05km and 15km, the older people within this category were females.\n"
   ]
  },
  {
   "cell_type": "code",
   "execution_count": null,
   "metadata": {
    "slideshow": {
     "slide_type": "skip"
    }
   },
   "outputs": [],
   "source": [
    "!jupyter nbconvert slide_deck.ipynb --to slides --post serve --no-input --no-prompt"
   ]
  }
 ],
 "metadata": {
  "celltoolbar": "Slideshow",
  "kernelspec": {
   "display_name": "Python 3 (ipykernel)",
   "language": "python",
   "name": "python3"
  },
  "language_info": {
   "codemirror_mode": {
    "name": "ipython",
    "version": 3
   },
   "file_extension": ".py",
   "mimetype": "text/x-python",
   "name": "python",
   "nbconvert_exporter": "python",
   "pygments_lexer": "ipython3",
   "version": "3.9.12"
  },
  "vscode": {
   "interpreter": {
    "hash": "73c56a12d422877d73db02eeece7bc3e2e35487edb51dd84e053fe501d72fdc9"
   }
  }
 },
 "nbformat": 4,
 "nbformat_minor": 2
}
