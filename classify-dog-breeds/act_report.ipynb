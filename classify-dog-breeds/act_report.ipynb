{
 "cells": [
  {
   "cell_type": "markdown",
   "metadata": {},
   "source": [
    "# We Rate Dogs\n",
    "\n",
    "### A data wrangling project by Chinomnso Chinedum\n"
   ]
  },
  {
   "cell_type": "markdown",
   "metadata": {},
   "source": [
    "## We Rate Dogs Data\n",
    "\n",
    "WeRateDogs is a Twitter account that rates people's dogs with a funny comment about the dog. Their ratings often have a denominator of 10, and a numerator of more than 10. For this project, WeRateDogs provided their twitter archive which contains basic tweet data. The goal of this project was to wrangle WeRateDogs Twitter data to create interesting and trustworthy analyses and visualizations. Three datasets were used:\n",
    "- The twitter archive for WeRateDogs.\n",
    "- Image predictions dataset that was hosted in Udacity's servers and downloaded programatically,  \n",
    "- Each tweet's retweet count and favorite (\"like\") count; gathered by querying Twitter's APIs using the tweet IDs in the WeRateDogs twitter archive dataset.\n",
    "\n",
    "### Wrangling the Data\n",
    "The three datasets were wrangled and 12 quality and tidiness issues were found and sorted. They include:\n",
    "#### Quality issues\n",
    "1. Some tweets are replies and retweets, not original tweets.\n",
    "2. The source_column in `twitter_feed` has some unnecessary HTML code in it.\n",
    "3. Incorrect rating numerators (decimal issues).\n",
    "4. Wrong data types for the following columns: \n",
    "   - a. `timestamp` column in `twitter_feed` has object data type instead of datetime64.\n",
    "   - b. `tweet_id` in all the datasets\n",
    "   - c. `source` in `twitter_feed` - should be changed to category data type.\n",
    "5.  Data about dogs and tweets are in the same dataset.\n",
    "6. Multiple dog stages for some individual records.\n",
    "7. `create_date` column in fave_retweet_data is not needed (after merge) - see below.\n",
    "8. Incorrect Names in `dogs_df`.\n",
    "9. Delete enteries without images\n",
    "#### Tidiness issues\n",
    "1. Dog stage is split into 4 columns in the `twitter_feed` dataset\n",
    "2. The predictions, confidence and dog are split into multiple columns in the `image_predictions` dataset.\n",
    "3. Merge datasets to create a master dataset."
   ]
  },
  {
   "cell_type": "markdown",
   "metadata": {},
   "source": [
    "## Insights"
   ]
  },
  {
   "cell_type": "markdown",
   "metadata": {},
   "source": [
    "The analysis showed that Twitter for iphone was the most used twitter source for tweets."
   ]
  },
  {
   "cell_type": "markdown",
   "metadata": {},
   "source": [
    "![source](./Twitter-source-frequency.png)"
   ]
  },
  {
   "cell_type": "markdown",
   "metadata": {},
   "source": [
    "Most of the ratings were between 10 and 14, but there were about 14 outliers whose rating numerators fell between 35/10 and 1776/10"
   ]
  },
  {
   "cell_type": "markdown",
   "metadata": {},
   "source": [
    "![ratings](./ratings-distribution.png)"
   ]
  },
  {
   "cell_type": "markdown",
   "metadata": {},
   "source": [
    "Cooper, Oliver, Charlie, Lucy, Penny, Tucker, Sardie, Winston and Lola are the 10 most popular dog names."
   ]
  },
  {
   "cell_type": "markdown",
   "metadata": {},
   "source": [
    "![mpdname](./mpdname.png)"
   ]
  },
  {
   "cell_type": "markdown",
   "metadata": {},
   "source": [
    "There is a positive relationship between `favorite_count` and `retweet_count`. This relationship is depicted by the correlation value of `0.92`, which suggests a strong positive relationship. This means that when a tweet has a high `retweet_count`, they are likely to have a high `favorite_count` as well."
   ]
  },
  {
   "cell_type": "markdown",
   "metadata": {},
   "source": [
    "![favevsretweet](./Favorite-vs-retweet.png)"
   ]
  }
 ],
 "metadata": {
  "interpreter": {
   "hash": "40d3a090f54c6569ab1632332b64b2c03c39dcf918b08424e98f38b5ae0af88f"
  },
  "kernelspec": {
   "display_name": "Python 3.7.6 ('base')",
   "language": "python",
   "name": "python3"
  },
  "language_info": {
   "codemirror_mode": {
    "name": "ipython",
    "version": 3
   },
   "file_extension": ".py",
   "mimetype": "text/x-python",
   "name": "python",
   "nbconvert_exporter": "python",
   "pygments_lexer": "ipython3",
   "version": "3.7.6"
  }
 },
 "nbformat": 4,
 "nbformat_minor": 2
}
